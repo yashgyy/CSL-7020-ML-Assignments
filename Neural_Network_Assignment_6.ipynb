{
  "nbformat": 4,
  "nbformat_minor": 0,
  "metadata": {
    "colab": {
      "name": "Neural_Network Assignment 6.ipynb",
      "provenance": [],
      "collapsed_sections": []
    },
    "kernelspec": {
      "name": "python3",
      "display_name": "Python 3"
    }
  },
  "cells": [
    {
      "cell_type": "markdown",
      "metadata": {
        "id": "ytYQBxAbH3JO"
      },
      "source": [
        "## MNIST Data Set Classification "
      ]
    },
    {
      "cell_type": "code",
      "metadata": {
        "id": "llg-633Bf2e0"
      },
      "source": [
        "import tensorflow as tf\n",
        "import pandas as pd\n",
        "import numpy as np\n",
        "import matplotlib.pyplot as plt\n",
        "import random\n",
        "import seaborn as sns"
      ],
      "execution_count": null,
      "outputs": []
    },
    {
      "cell_type": "code",
      "metadata": {
        "id": "VZ7WBsRTURGv"
      },
      "source": [
        "Batch_Size = {} "
      ],
      "execution_count": null,
      "outputs": []
    },
    {
      "cell_type": "code",
      "metadata": {
        "id": "fXn6H5Sigyr1"
      },
      "source": [
        "(X_train, Y_train), (x_test, y_test) = tf.keras.datasets.mnist.load_data(path=\"mnist.npz\")"
      ],
      "execution_count": null,
      "outputs": []
    },
    {
      "cell_type": "code",
      "metadata": {
        "id": "slFB1XWAg76k"
      },
      "source": [
        "from sklearn.model_selection import train_test_split"
      ],
      "execution_count": null,
      "outputs": []
    },
    {
      "cell_type": "code",
      "metadata": {
        "id": "aMvLM36-g-WS"
      },
      "source": [
        "X_test, X_validate, Y_test, Y_validate = train_test_split(x_test, y_test, train_size=0.4, random_state=42)"
      ],
      "execution_count": null,
      "outputs": []
    },
    {
      "cell_type": "markdown",
      "metadata": {
        "id": "gdZARzsMIeis"
      },
      "source": [
        "**The Test  Data set is Further broken into further two Sets namely Test and Validatation Data Set . The Validation Data would be used to check for Early stopping while Test Dataset is for final perfomance Testing**\n"
      ]
    },
    {
      "cell_type": "code",
      "metadata": {
        "id": "UOjGyD0SB3Kz",
        "colab": {
          "base_uri": "https://localhost:8080/"
        },
        "outputId": "9903f31c-4464-43b5-fd1b-f0d4cb12ab58"
      },
      "source": [
        "X_test.shape"
      ],
      "execution_count": null,
      "outputs": [
        {
          "output_type": "execute_result",
          "data": {
            "text/plain": [
              "(4000, 28, 28)"
            ]
          },
          "metadata": {
            "tags": []
          },
          "execution_count": 149
        }
      ]
    },
    {
      "cell_type": "code",
      "metadata": {
        "id": "dCQOQgNRB3zd",
        "colab": {
          "base_uri": "https://localhost:8080/"
        },
        "outputId": "2d71d421-6532-446c-fadb-3bd0578d5cc4"
      },
      "source": [
        "X_validate.shape"
      ],
      "execution_count": null,
      "outputs": [
        {
          "output_type": "execute_result",
          "data": {
            "text/plain": [
              "(6000, 28, 28)"
            ]
          },
          "metadata": {
            "tags": []
          },
          "execution_count": 150
        }
      ]
    },
    {
      "cell_type": "code",
      "metadata": {
        "id": "aZmKWEtbB314",
        "colab": {
          "base_uri": "https://localhost:8080/"
        },
        "outputId": "84022279-d31e-417a-d7a0-a0c29b8fb606"
      },
      "source": [
        "X_train.shape"
      ],
      "execution_count": null,
      "outputs": [
        {
          "output_type": "execute_result",
          "data": {
            "text/plain": [
              "(60000, 28, 28)"
            ]
          },
          "metadata": {
            "tags": []
          },
          "execution_count": 151
        }
      ]
    },
    {
      "cell_type": "code",
      "metadata": {
        "id": "oF338bE5B35y"
      },
      "source": [
        "from tensorflow.keras.models import Sequential\n",
        "from tensorflow.keras.layers import Flatten\n",
        "from tensorflow.keras.layers import Dense"
      ],
      "execution_count": null,
      "outputs": []
    },
    {
      "cell_type": "markdown",
      "metadata": {
        "id": "vabBwaagJOCJ"
      },
      "source": [
        "## No of nodes for Same Parameters when the When the Hidden Layers is changed from 1 to 2\n",
        "\n",
        "1. *Let the no of Nodes in each layer be x when no of layers is 1*\n",
        ">  Total No of Parameters when layer is 1 = \\begin{equation*}\n",
        "795x+10\n",
        "\\end{equation*}\n",
        "2. *Let the no of Nodes in each layer be y when no of layers are 2*\n",
        ">  Total No of Parameters = \\begin{equation*}\n",
        "y^2+796y+10\n",
        "\\end{equation*}\n",
        "\n",
        "3. Total No of parameters should be same Thus -\n",
        "> \\begin{equation*}\n",
        "y^2+796y+10=795x+10\n",
        "\\end{equation*}\n",
        "\\begin{equation*}\n",
        "795x=796y+y^2\n",
        "\\end{equation*}\n",
        "\\begin{equation*}\n",
        "x=(796y+y^2)/795  \n",
        "\\end{equation*}\n",
        "where x and y are integers\n",
        "\n",
        "4. Satisfying the Above equation to find no of nodes we get \n",
        "> \\begin{equation*}\n",
        "x=352(Layers=1)\n",
        "\\end{equation*}\n",
        "\\begin{equation*}\n",
        "y=264(Layers=2)\n",
        "\\end{equation*}"
      ]
    },
    {
      "cell_type": "markdown",
      "metadata": {
        "id": "yTcqTv4tP1io"
      },
      "source": [
        "## Part 1: No of  Layers equals 1\n",
        "\n",
        "> **A ) Relu and Sigmoid**\n",
        "\n",
        "\n",
        "\n",
        "\n",
        "\n"
      ]
    },
    {
      "cell_type": "code",
      "metadata": {
        "id": "MBVB-0ltB38U"
      },
      "source": [
        "Model=Sequential()\n",
        "Model.add(Flatten(input_shape=(28,28,1)))  #Flatten a matrix into straight array so that can be fed into DNN\n",
        "Model.add(Dense(352,activation=\"relu\")) #1st Layer No of nodes =352\n",
        "Model.add(Dense(10,activation=\"softmax\"))"
      ],
      "execution_count": null,
      "outputs": []
    },
    {
      "cell_type": "code",
      "metadata": {
        "id": "jTFYvY5AB4AP"
      },
      "source": [
        "Model.compile(\n",
        "    loss='sparse_categorical_crossentropy',\n",
        "    optimizer=tf.keras.optimizers.Adam(0.001),  \n",
        "    metrics=['accuracy'],\n",
        ")"
      ],
      "execution_count": null,
      "outputs": []
    },
    {
      "cell_type": "markdown",
      "metadata": {
        "id": "47YudL4DRSGw"
      },
      "source": [
        "#### Early Stopping allow us to Stop training early depending upon the perfomance on the Validation Data\n",
        "\n",
        "* Monitor = At every epoch it would check the perfomance on validation data \n",
        "* Patience = It would ignore the 5 times the increase in validation loss or negligible decrease in perfomenace\n",
        "* Min_Delta = Minimum loss should decrease by 0.1 to consider improvement.... Penalizes only Negligibile improvement "
      ]
    },
    {
      "cell_type": "code",
      "metadata": {
        "id": "rL_4ztKwB34R"
      },
      "source": [
        "EarlyStop=tf.keras.callbacks.EarlyStopping(\n",
        "    monitor='val_loss' , verbose=2, patience=5,restore_best_weights=False,min_delta=0.01\n",
        ")"
      ],
      "execution_count": null,
      "outputs": []
    },
    {
      "cell_type": "code",
      "metadata": {
        "id": "c7TYWBT9DIyC",
        "colab": {
          "base_uri": "https://localhost:8080/"
        },
        "outputId": "a78e1ff3-38d6-48d1-e432-cd3e67657b4a"
      },
      "source": [
        "Model_History = Model.fit(X_train,Y_train,batch_size=1024, epochs=25,shuffle=True,verbose=1,callbacks=[EarlyStop],validation_data=(X_validate,Y_validate))"
      ],
      "execution_count": null,
      "outputs": [
        {
          "output_type": "stream",
          "text": [
            "Epoch 1/25\n",
            "59/59 [==============================] - 2s 31ms/step - loss: 15.5985 - accuracy: 0.8202 - val_loss: 3.2991 - val_accuracy: 0.9202\n",
            "Epoch 2/25\n",
            "59/59 [==============================] - 2s 29ms/step - loss: 2.2802 - accuracy: 0.9293 - val_loss: 2.0133 - val_accuracy: 0.9328\n",
            "Epoch 3/25\n",
            "59/59 [==============================] - 2s 29ms/step - loss: 1.2154 - accuracy: 0.9484 - val_loss: 1.5822 - val_accuracy: 0.9417\n",
            "Epoch 4/25\n",
            "59/59 [==============================] - 2s 29ms/step - loss: 0.7714 - accuracy: 0.9596 - val_loss: 1.4616 - val_accuracy: 0.9403\n",
            "Epoch 5/25\n",
            "59/59 [==============================] - 2s 29ms/step - loss: 0.4890 - accuracy: 0.9694 - val_loss: 1.3713 - val_accuracy: 0.9433\n",
            "Epoch 6/25\n",
            "59/59 [==============================] - 2s 29ms/step - loss: 0.3335 - accuracy: 0.9749 - val_loss: 1.2271 - val_accuracy: 0.9497\n",
            "Epoch 7/25\n",
            "59/59 [==============================] - 2s 29ms/step - loss: 0.2260 - accuracy: 0.9805 - val_loss: 1.2262 - val_accuracy: 0.9522\n",
            "Epoch 8/25\n",
            "59/59 [==============================] - 2s 29ms/step - loss: 0.1715 - accuracy: 0.9838 - val_loss: 1.1805 - val_accuracy: 0.9503\n",
            "Epoch 9/25\n",
            "59/59 [==============================] - 2s 29ms/step - loss: 0.1096 - accuracy: 0.9880 - val_loss: 1.0778 - val_accuracy: 0.9540\n",
            "Epoch 10/25\n",
            "59/59 [==============================] - 2s 28ms/step - loss: 0.0752 - accuracy: 0.9901 - val_loss: 1.0574 - val_accuracy: 0.9557\n",
            "Epoch 11/25\n",
            "59/59 [==============================] - 2s 29ms/step - loss: 0.0584 - accuracy: 0.9918 - val_loss: 1.0420 - val_accuracy: 0.9558\n",
            "Epoch 12/25\n",
            "59/59 [==============================] - 2s 29ms/step - loss: 0.0409 - accuracy: 0.9937 - val_loss: 1.0532 - val_accuracy: 0.9560\n",
            "Epoch 13/25\n",
            "59/59 [==============================] - 2s 29ms/step - loss: 0.0292 - accuracy: 0.9951 - val_loss: 1.0479 - val_accuracy: 0.9553\n",
            "Epoch 14/25\n",
            "59/59 [==============================] - 2s 29ms/step - loss: 0.0230 - accuracy: 0.9953 - val_loss: 1.0330 - val_accuracy: 0.9577\n",
            "Epoch 15/25\n",
            "59/59 [==============================] - 2s 29ms/step - loss: 0.0213 - accuracy: 0.9958 - val_loss: 1.0002 - val_accuracy: 0.9573\n",
            "Epoch 16/25\n",
            "59/59 [==============================] - 2s 29ms/step - loss: 0.0236 - accuracy: 0.9955 - val_loss: 1.0909 - val_accuracy: 0.9565\n",
            "Epoch 17/25\n",
            "59/59 [==============================] - 2s 28ms/step - loss: 0.0222 - accuracy: 0.9961 - val_loss: 1.0084 - val_accuracy: 0.9570\n",
            "Epoch 18/25\n",
            "59/59 [==============================] - 2s 29ms/step - loss: 0.0197 - accuracy: 0.9964 - val_loss: 1.0236 - val_accuracy: 0.9573\n",
            "Epoch 19/25\n",
            "59/59 [==============================] - 2s 29ms/step - loss: 0.0242 - accuracy: 0.9958 - val_loss: 1.0045 - val_accuracy: 0.9593\n",
            "Epoch 20/25\n",
            "59/59 [==============================] - 2s 29ms/step - loss: 0.0199 - accuracy: 0.9964 - val_loss: 0.9872 - val_accuracy: 0.9582\n",
            "Epoch 21/25\n",
            "59/59 [==============================] - 2s 28ms/step - loss: 0.0259 - accuracy: 0.9952 - val_loss: 1.0100 - val_accuracy: 0.9597\n",
            "Epoch 22/25\n",
            "59/59 [==============================] - 2s 29ms/step - loss: 0.0203 - accuracy: 0.9964 - val_loss: 0.9692 - val_accuracy: 0.9605\n",
            "Epoch 23/25\n",
            "59/59 [==============================] - 2s 29ms/step - loss: 0.0289 - accuracy: 0.9958 - val_loss: 0.9753 - val_accuracy: 0.9620\n",
            "Epoch 24/25\n",
            "59/59 [==============================] - 2s 29ms/step - loss: 0.0285 - accuracy: 0.9956 - val_loss: 0.9524 - val_accuracy: 0.9617\n",
            "Epoch 25/25\n",
            "59/59 [==============================] - 2s 29ms/step - loss: 0.0225 - accuracy: 0.9964 - val_loss: 0.9455 - val_accuracy: 0.9625\n"
          ],
          "name": "stdout"
        }
      ]
    },
    {
      "cell_type": "code",
      "metadata": {
        "id": "0SNFEM4-SzPs",
        "colab": {
          "base_uri": "https://localhost:8080/",
          "height": 513
        },
        "outputId": "6e319978-40a8-4ec2-ce82-600d6a618333"
      },
      "source": [
        "import matplotlib.pyplot as plt\n",
        "fig = plt.figure(figsize=(8,8))\n",
        "plt.plot(Model_History.history['loss'])\n",
        "plt.plot(Model_History.history['val_loss'])\n",
        "plt.legend(['Train', 'Validation'], loc='upper right')\n",
        "plt.xlabel(\"Epochs\")\n",
        "plt.ylabel(\"Loss\")\n",
        "x=plt.title(\"Training and Validation Error RelU Activation - One Layer\")"
      ],
      "execution_count": null,
      "outputs": [
        {
          "output_type": "display_data",
          "data": {
            "image/png": "[encoded data removed]",
            "text/plain": [
              "<Figure size 576x576 with 1 Axes>"
            ]
          },
          "metadata": {
            "tags": [],
            "needs_background": "light"
          }
        }
      ]
    },
    {
      "cell_type": "code",
      "metadata": {
        "id": "gousH4E5Tyul",
        "colab": {
          "base_uri": "https://localhost:8080/"
        },
        "outputId": "b23c7da2-5bb2-422c-eae0-cbe44a3ce56f"
      },
      "source": [
        "Temp=Model.evaluate(X_test,Y_test,return_dict=True)\n",
        "Batch_Size['One Layer Relu']=Temp['accuracy']"
      ],
      "execution_count": null,
      "outputs": [
        {
          "output_type": "stream",
          "text": [
            "125/125 [==============================] - 0s 2ms/step - loss: 0.8786 - accuracy: 0.9643\n"
          ],
          "name": "stdout"
        }
      ]
    },
    {
      "cell_type": "markdown",
      "metadata": {
        "id": "61kQDtpNDngV"
      },
      "source": [
        "----------------------------------------------------------------------------"
      ]
    },
    {
      "cell_type": "code",
      "metadata": {
        "id": "5xOWPT83DI4h"
      },
      "source": [
        "Model=Sequential()\n",
        "Model.add(Flatten(input_shape=(28,28,1)))  #Flatten a matrix into straight array so that can be fed into DNN\n",
        "Model.add(Dense(352,activation=\"sigmoid\")) #1st Layer No of nodes =352\n",
        "Model.add(Dense(10,activation=\"softmax\"))"
      ],
      "execution_count": null,
      "outputs": []
    },
    {
      "cell_type": "code",
      "metadata": {
        "id": "a0RaVr6qDI8k"
      },
      "source": [
        "Model.compile(\n",
        "    loss='sparse_categorical_crossentropy',\n",
        "    optimizer=tf.keras.optimizers.Adam(0.001),  \n",
        "    metrics=['accuracy'],\n",
        ")"
      ],
      "execution_count": null,
      "outputs": []
    },
    {
      "cell_type": "code",
      "metadata": {
        "id": "0bWicFwiDI2p"
      },
      "source": [
        "EarlyStop=tf.keras.callbacks.EarlyStopping(\n",
        "    monitor='val_loss' , verbose=2, patience=5,restore_best_weights=False,min_delta=0.01\n",
        "    \n",
        ")"
      ],
      "execution_count": null,
      "outputs": []
    },
    {
      "cell_type": "code",
      "metadata": {
        "id": "UmXdogbMDI0Z",
        "colab": {
          "base_uri": "https://localhost:8080/"
        },
        "outputId": "063bb9a2-7072-467e-8e08-ac9c5bf15653"
      },
      "source": [
        "Model_History = Model.fit(X_train,Y_train,batch_size=1024, epochs=25,shuffle=True,verbose=1,callbacks=[EarlyStop],validation_data=(X_validate,Y_validate))"
      ],
      "execution_count": null,
      "outputs": [
        {
          "output_type": "stream",
          "text": [
            "Epoch 1/25\n",
            "59/59 [==============================] - 2s 31ms/step - loss: 0.6953 - accuracy: 0.8070 - val_loss: 0.3512 - val_accuracy: 0.9057\n",
            "Epoch 2/25\n",
            "59/59 [==============================] - 2s 29ms/step - loss: 0.3116 - accuracy: 0.9157 - val_loss: 0.2732 - val_accuracy: 0.9257\n",
            "Epoch 3/25\n",
            "59/59 [==============================] - 2s 29ms/step - loss: 0.2536 - accuracy: 0.9312 - val_loss: 0.2358 - val_accuracy: 0.9360\n",
            "Epoch 4/25\n",
            "59/59 [==============================] - 2s 29ms/step - loss: 0.2208 - accuracy: 0.9383 - val_loss: 0.2158 - val_accuracy: 0.9398\n",
            "Epoch 5/25\n",
            "59/59 [==============================] - 2s 29ms/step - loss: 0.1992 - accuracy: 0.9450 - val_loss: 0.2022 - val_accuracy: 0.9425\n",
            "Epoch 6/25\n",
            "59/59 [==============================] - 2s 29ms/step - loss: 0.1796 - accuracy: 0.9503 - val_loss: 0.1833 - val_accuracy: 0.9477\n",
            "Epoch 7/25\n",
            "59/59 [==============================] - 2s 29ms/step - loss: 0.1658 - accuracy: 0.9535 - val_loss: 0.1719 - val_accuracy: 0.9523\n",
            "Epoch 8/25\n",
            "59/59 [==============================] - 2s 29ms/step - loss: 0.1560 - accuracy: 0.9564 - val_loss: 0.1697 - val_accuracy: 0.9508\n",
            "Epoch 9/25\n",
            "59/59 [==============================] - 2s 29ms/step - loss: 0.1479 - accuracy: 0.9592 - val_loss: 0.1631 - val_accuracy: 0.9545\n",
            "Epoch 10/25\n",
            "59/59 [==============================] - 2s 29ms/step - loss: 0.1403 - accuracy: 0.9603 - val_loss: 0.1502 - val_accuracy: 0.9573\n",
            "Epoch 11/25\n",
            "59/59 [==============================] - 2s 29ms/step - loss: 0.1345 - accuracy: 0.9622 - val_loss: 0.1518 - val_accuracy: 0.9545\n",
            "Epoch 12/25\n",
            "59/59 [==============================] - 2s 29ms/step - loss: 0.1292 - accuracy: 0.9643 - val_loss: 0.1466 - val_accuracy: 0.9597\n",
            "Epoch 13/25\n",
            "59/59 [==============================] - 2s 30ms/step - loss: 0.1225 - accuracy: 0.9655 - val_loss: 0.1487 - val_accuracy: 0.9570\n",
            "Epoch 14/25\n",
            "59/59 [==============================] - 2s 30ms/step - loss: 0.1205 - accuracy: 0.9670 - val_loss: 0.1367 - val_accuracy: 0.9608\n",
            "Epoch 15/25\n",
            "59/59 [==============================] - 2s 30ms/step - loss: 0.1149 - accuracy: 0.9684 - val_loss: 0.1350 - val_accuracy: 0.9608\n",
            "Epoch 16/25\n",
            "59/59 [==============================] - 2s 30ms/step - loss: 0.1089 - accuracy: 0.9696 - val_loss: 0.1305 - val_accuracy: 0.9632\n",
            "Epoch 17/25\n",
            "59/59 [==============================] - 2s 30ms/step - loss: 0.1077 - accuracy: 0.9700 - val_loss: 0.1299 - val_accuracy: 0.9603\n",
            "Epoch 18/25\n",
            "59/59 [==============================] - 2s 30ms/step - loss: 0.1019 - accuracy: 0.9712 - val_loss: 0.1269 - val_accuracy: 0.9623\n",
            "Epoch 19/25\n",
            "59/59 [==============================] - 2s 29ms/step - loss: 0.0993 - accuracy: 0.9720 - val_loss: 0.1269 - val_accuracy: 0.9647\n",
            "Epoch 00019: early stopping\n"
          ],
          "name": "stdout"
        }
      ]
    },
    {
      "cell_type": "code",
      "metadata": {
        "id": "U3S3pv1fWXVO",
        "colab": {
          "base_uri": "https://localhost:8080/",
          "height": 513
        },
        "outputId": "0987fce1-0135-462a-a087-a4ed39549def"
      },
      "source": [
        "import matplotlib.pyplot as plt\n",
        "fig = plt.figure(figsize=(8,8))\n",
        "plt.plot(Model_History.history['loss'])\n",
        "plt.plot(Model_History.history['val_loss'])\n",
        "plt.legend(['Train', 'Validation'], loc='upper right')\n",
        "plt.xlabel(\"Epochs\")\n",
        "plt.ylabel(\"Loss\")\n",
        "x=plt.title(\"Training and Validation Error Sigmoid Activation - One Layer\")"
      ],
      "execution_count": null,
      "outputs": [
        {
          "output_type": "display_data",
          "data": {
            "image/png": "[encoded data removed]",
            "text/plain": [
              "<Figure size 576x576 with 1 Axes>"
            ]
          },
          "metadata": {
            "tags": [],
            "needs_background": "light"
          }
        }
      ]
    },
    {
      "cell_type": "code",
      "metadata": {
        "id": "nWgeSGFvXZFX",
        "colab": {
          "base_uri": "https://localhost:8080/"
        },
        "outputId": "f6eca5f9-fe44-4ceb-9a13-dfc3070ea31d"
      },
      "source": [
        "Temp=Model.evaluate(X_test,Y_test,return_dict=True)\n",
        "Batch_Size['One Layer Sigmoid']=Temp['accuracy']"
      ],
      "execution_count": null,
      "outputs": [
        {
          "output_type": "stream",
          "text": [
            "125/125 [==============================] - 0s 2ms/step - loss: 0.1148 - accuracy: 0.9668\n"
          ],
          "name": "stdout"
        }
      ]
    },
    {
      "cell_type": "markdown",
      "metadata": {
        "id": "9PLfSbdnXX0T"
      },
      "source": [
        "> **B ) Linear Activation (Non Linearity)**"
      ]
    },
    {
      "cell_type": "code",
      "metadata": {
        "id": "tqi5WdinXo09"
      },
      "source": [
        "Model=Sequential()\n",
        "Model.add(Flatten(input_shape=(28,28,1)))  #Flatten a matrix into straight array so that can be fed into DNN\n",
        "Model.add(Dense(352,activation=\"linear\")) #1st Layer No of nodes =352\n",
        "Model.add(Dense(10,activation=\"softmax\"))"
      ],
      "execution_count": null,
      "outputs": []
    },
    {
      "cell_type": "code",
      "metadata": {
        "id": "f5pll7nuXsbt"
      },
      "source": [
        "Model.compile(\n",
        "    loss='sparse_categorical_crossentropy',\n",
        "    optimizer=tf.keras.optimizers.Adam(0.001),  \n",
        "    metrics=['accuracy'],\n",
        ")"
      ],
      "execution_count": null,
      "outputs": []
    },
    {
      "cell_type": "code",
      "metadata": {
        "id": "kRjbInwlXspd"
      },
      "source": [
        "EarlyStop=tf.keras.callbacks.EarlyStopping(\n",
        "    monitor='val_loss' , verbose=2, patience=5,restore_best_weights=False,min_delta=0.01\n",
        "    \n",
        ")"
      ],
      "execution_count": null,
      "outputs": []
    },
    {
      "cell_type": "code",
      "metadata": {
        "id": "XXza47OPXs0N",
        "colab": {
          "base_uri": "https://localhost:8080/"
        },
        "outputId": "65be6873-9a07-45d0-a87c-9918032cea1c"
      },
      "source": [
        "Model_History = Model.fit(X_train,Y_train,batch_size=1024, epochs=25,shuffle=True,verbose=1,callbacks=[EarlyStop],validation_data=(X_validate,Y_validate))"
      ],
      "execution_count": null,
      "outputs": [
        {
          "output_type": "stream",
          "text": [
            "Epoch 1/25\n",
            "59/59 [==============================] - 2s 38ms/step - loss: 30.6873 - accuracy: 0.8061 - val_loss: 10.2301 - val_accuracy: 0.8960\n",
            "Epoch 2/25\n",
            "59/59 [==============================] - 2s 28ms/step - loss: 8.1318 - accuracy: 0.8954 - val_loss: 6.7180 - val_accuracy: 0.8922\n",
            "Epoch 3/25\n",
            "59/59 [==============================] - 2s 28ms/step - loss: 5.6073 - accuracy: 0.8928 - val_loss: 5.2511 - val_accuracy: 0.8987\n",
            "Epoch 4/25\n",
            "59/59 [==============================] - 2s 28ms/step - loss: 5.1612 - accuracy: 0.8870 - val_loss: 5.5761 - val_accuracy: 0.8815\n",
            "Epoch 5/25\n",
            "59/59 [==============================] - 2s 28ms/step - loss: 4.9855 - accuracy: 0.8872 - val_loss: 5.1584 - val_accuracy: 0.8882\n",
            "Epoch 6/25\n",
            "59/59 [==============================] - 2s 28ms/step - loss: 4.5159 - accuracy: 0.8891 - val_loss: 6.3199 - val_accuracy: 0.8575\n",
            "Epoch 7/25\n",
            "59/59 [==============================] - 2s 28ms/step - loss: 4.4918 - accuracy: 0.8882 - val_loss: 4.9414 - val_accuracy: 0.8878\n",
            "Epoch 8/25\n",
            "59/59 [==============================] - 2s 28ms/step - loss: 3.9157 - accuracy: 0.8892 - val_loss: 4.0665 - val_accuracy: 0.9012\n",
            "Epoch 9/25\n",
            "59/59 [==============================] - 2s 28ms/step - loss: 3.7285 - accuracy: 0.8891 - val_loss: 4.0180 - val_accuracy: 0.9007\n",
            "Epoch 10/25\n",
            "59/59 [==============================] - 2s 28ms/step - loss: 3.8726 - accuracy: 0.8894 - val_loss: 4.4441 - val_accuracy: 0.8850\n",
            "Epoch 11/25\n",
            "59/59 [==============================] - 2s 28ms/step - loss: 3.3820 - accuracy: 0.8940 - val_loss: 3.8205 - val_accuracy: 0.8885\n",
            "Epoch 12/25\n",
            "59/59 [==============================] - 2s 28ms/step - loss: 3.0789 - accuracy: 0.8933 - val_loss: 3.9853 - val_accuracy: 0.8903\n",
            "Epoch 13/25\n",
            "59/59 [==============================] - 2s 28ms/step - loss: 3.0930 - accuracy: 0.8927 - val_loss: 3.7513 - val_accuracy: 0.8863\n",
            "Epoch 14/25\n",
            "59/59 [==============================] - 2s 28ms/step - loss: 2.9909 - accuracy: 0.8906 - val_loss: 3.8039 - val_accuracy: 0.9000\n",
            "Epoch 15/25\n",
            "59/59 [==============================] - 2s 28ms/step - loss: 3.0206 - accuracy: 0.8945 - val_loss: 3.9401 - val_accuracy: 0.8807\n",
            "Epoch 16/25\n",
            "59/59 [==============================] - 2s 28ms/step - loss: 3.0292 - accuracy: 0.8903 - val_loss: 3.8760 - val_accuracy: 0.8847\n",
            "Epoch 17/25\n",
            "59/59 [==============================] - 2s 28ms/step - loss: 2.9122 - accuracy: 0.8946 - val_loss: 3.2437 - val_accuracy: 0.8992\n",
            "Epoch 18/25\n",
            "59/59 [==============================] - 2s 28ms/step - loss: 2.4166 - accuracy: 0.8965 - val_loss: 3.4893 - val_accuracy: 0.8752\n",
            "Epoch 19/25\n",
            "59/59 [==============================] - 2s 28ms/step - loss: 2.3989 - accuracy: 0.8957 - val_loss: 3.0840 - val_accuracy: 0.8963\n",
            "Epoch 20/25\n",
            "59/59 [==============================] - 2s 28ms/step - loss: 2.7460 - accuracy: 0.8895 - val_loss: 3.5628 - val_accuracy: 0.8790\n",
            "Epoch 21/25\n",
            "59/59 [==============================] - 2s 28ms/step - loss: 2.2708 - accuracy: 0.8972 - val_loss: 3.6200 - val_accuracy: 0.8617\n",
            "Epoch 22/25\n",
            "59/59 [==============================] - 2s 28ms/step - loss: 2.1497 - accuracy: 0.8969 - val_loss: 2.9051 - val_accuracy: 0.8855\n",
            "Epoch 23/25\n",
            "59/59 [==============================] - 2s 28ms/step - loss: 1.9884 - accuracy: 0.8983 - val_loss: 2.8262 - val_accuracy: 0.8842\n",
            "Epoch 24/25\n",
            "59/59 [==============================] - 2s 28ms/step - loss: 2.0228 - accuracy: 0.8938 - val_loss: 2.9909 - val_accuracy: 0.8833\n",
            "Epoch 25/25\n",
            "59/59 [==============================] - 2s 28ms/step - loss: 1.9857 - accuracy: 0.8969 - val_loss: 2.7250 - val_accuracy: 0.8828\n"
          ],
          "name": "stdout"
        }
      ]
    },
    {
      "cell_type": "code",
      "metadata": {
        "id": "1XvG7diBXs_m",
        "colab": {
          "base_uri": "https://localhost:8080/",
          "height": 513
        },
        "outputId": "8b723633-bb21-4614-c898-bdbb04cbe834"
      },
      "source": [
        "import matplotlib.pyplot as plt\n",
        "fig = plt.figure(figsize=(8,8))\n",
        "plt.plot(Model_History.history['loss'])\n",
        "plt.plot(Model_History.history['val_loss'])\n",
        "plt.legend(['Train', 'Validation'], loc='upper right')\n",
        "plt.xlabel(\"Epochs\")\n",
        "plt.ylabel(\"Loss\")\n",
        "x=plt.title(\"Training and Validation Error Linear Activation - One Layer\")"
      ],
      "execution_count": null,
      "outputs": [
        {
          "output_type": "display_data",
          "data": {
            "image/png": "[encoded data removed]",
            "text/plain": [
              "<Figure size 576x576 with 1 Axes>"
            ]
          },
          "metadata": {
            "tags": [],
            "needs_background": "light"
          }
        }
      ]
    },
    {
      "cell_type": "code",
      "metadata": {
        "id": "JiNKAVaWX2IX",
        "colab": {
          "base_uri": "https://localhost:8080/"
        },
        "outputId": "859d17cf-aaf7-41d5-d0f1-a984350f0e2c"
      },
      "source": [
        "Temp=Model.evaluate(X_test,Y_test,return_dict=True)\n",
        "Batch_Size['One Layer Non Linearity']=Temp['accuracy']"
      ],
      "execution_count": null,
      "outputs": [
        {
          "output_type": "stream",
          "text": [
            "125/125 [==============================] - 0s 2ms/step - loss: 2.5961 - accuracy: 0.8890\n"
          ],
          "name": "stdout"
        }
      ]
    },
    {
      "cell_type": "markdown",
      "metadata": {
        "id": "PltLTKGMYW8a"
      },
      "source": [
        "## Part 2: No of  Layers equals 2\n",
        "\n",
        "> **A ) Relu and Sigmoid**\n",
        "\n",
        "\n",
        "\n",
        "\n",
        "\n"
      ]
    },
    {
      "cell_type": "code",
      "metadata": {
        "id": "DnMLCWQqYZ38"
      },
      "source": [
        "Model=Sequential()\n",
        "Model.add(Flatten(input_shape=(28,28,1)))  #Flatten a matrix into straight array so that can be fed into DNN\n",
        "Model.add(Dense(264,activation=\"relu\")) # 2  Layer No of nodes in each =264\n",
        "Model.add(Dense(264,activation=\"relu\"))\n",
        "Model.add(Dense(10,activation=\"softmax\"))"
      ],
      "execution_count": null,
      "outputs": []
    },
    {
      "cell_type": "code",
      "metadata": {
        "id": "TB_YEDOWYZ_c"
      },
      "source": [
        "Model.compile(\n",
        "    loss='sparse_categorical_crossentropy',\n",
        "    optimizer=tf.keras.optimizers.Adam(0.001),  \n",
        "    metrics=['accuracy'],\n",
        ")"
      ],
      "execution_count": null,
      "outputs": []
    },
    {
      "cell_type": "code",
      "metadata": {
        "id": "qA8lQBDwYaEG"
      },
      "source": [
        "EarlyStop=tf.keras.callbacks.EarlyStopping(\n",
        "    monitor='val_loss' , verbose=2, patience=5,restore_best_weights=False,min_delta=0.01\n",
        "    \n",
        ")"
      ],
      "execution_count": null,
      "outputs": []
    },
    {
      "cell_type": "code",
      "metadata": {
        "id": "YHGGA0ONYaIc",
        "colab": {
          "base_uri": "https://localhost:8080/"
        },
        "outputId": "fa88c0d0-07de-4867-b2b5-604637b3d809"
      },
      "source": [
        "Model_History = Model.fit(X_train,Y_train,batch_size=1024, epochs=25,shuffle=True,verbose=1,callbacks=[EarlyStop],validation_data=(X_validate,Y_validate))"
      ],
      "execution_count": null,
      "outputs": [
        {
          "output_type": "stream",
          "text": [
            "Epoch 1/25\n",
            "59/59 [==============================] - 2s 34ms/step - loss: 11.7981 - accuracy: 0.7837 - val_loss: 1.6263 - val_accuracy: 0.8980\n",
            "Epoch 2/25\n",
            "59/59 [==============================] - 2s 32ms/step - loss: 1.1203 - accuracy: 0.9175 - val_loss: 1.0398 - val_accuracy: 0.9223\n",
            "Epoch 3/25\n",
            "59/59 [==============================] - 2s 32ms/step - loss: 0.6425 - accuracy: 0.9394 - val_loss: 0.8519 - val_accuracy: 0.9270\n",
            "Epoch 4/25\n",
            "59/59 [==============================] - 2s 32ms/step - loss: 0.4111 - accuracy: 0.9527 - val_loss: 0.7285 - val_accuracy: 0.9347\n",
            "Epoch 5/25\n",
            "59/59 [==============================] - 2s 32ms/step - loss: 0.2641 - accuracy: 0.9638 - val_loss: 0.6749 - val_accuracy: 0.9395\n",
            "Epoch 6/25\n",
            "59/59 [==============================] - 2s 32ms/step - loss: 0.1858 - accuracy: 0.9715 - val_loss: 0.6507 - val_accuracy: 0.9443\n",
            "Epoch 7/25\n",
            "59/59 [==============================] - 2s 32ms/step - loss: 0.1289 - accuracy: 0.9776 - val_loss: 0.6350 - val_accuracy: 0.9408\n",
            "Epoch 8/25\n",
            "59/59 [==============================] - 2s 32ms/step - loss: 0.0847 - accuracy: 0.9842 - val_loss: 0.5894 - val_accuracy: 0.9418\n",
            "Epoch 9/25\n",
            "59/59 [==============================] - 2s 32ms/step - loss: 0.0588 - accuracy: 0.9872 - val_loss: 0.5979 - val_accuracy: 0.9442\n",
            "Epoch 10/25\n",
            "59/59 [==============================] - 2s 31ms/step - loss: 0.0387 - accuracy: 0.9908 - val_loss: 0.5880 - val_accuracy: 0.9432\n",
            "Epoch 11/25\n",
            "59/59 [==============================] - 2s 31ms/step - loss: 0.0226 - accuracy: 0.9939 - val_loss: 0.5865 - val_accuracy: 0.9462\n",
            "Epoch 12/25\n",
            "59/59 [==============================] - 2s 32ms/step - loss: 0.0142 - accuracy: 0.9964 - val_loss: 0.5622 - val_accuracy: 0.9450\n",
            "Epoch 13/25\n",
            "59/59 [==============================] - 2s 32ms/step - loss: 0.0077 - accuracy: 0.9979 - val_loss: 0.5747 - val_accuracy: 0.9490\n",
            "Epoch 14/25\n",
            "59/59 [==============================] - 2s 32ms/step - loss: 0.0041 - accuracy: 0.9990 - val_loss: 0.5712 - val_accuracy: 0.9485\n",
            "Epoch 15/25\n",
            "59/59 [==============================] - 2s 32ms/step - loss: 0.0021 - accuracy: 0.9997 - val_loss: 0.5659 - val_accuracy: 0.9485\n",
            "Epoch 16/25\n",
            "59/59 [==============================] - 2s 31ms/step - loss: 0.0010 - accuracy: 0.9999 - val_loss: 0.5612 - val_accuracy: 0.9493\n",
            "Epoch 17/25\n",
            "59/59 [==============================] - 2s 31ms/step - loss: 4.8872e-04 - accuracy: 1.0000 - val_loss: 0.5630 - val_accuracy: 0.9493\n",
            "Epoch 00017: early stopping\n"
          ],
          "name": "stdout"
        }
      ]
    },
    {
      "cell_type": "code",
      "metadata": {
        "id": "jd1DowA4YaO_",
        "colab": {
          "base_uri": "https://localhost:8080/",
          "height": 513
        },
        "outputId": "e3e4c839-01ff-4e1e-91d4-186b68d53ce4"
      },
      "source": [
        "import matplotlib.pyplot as plt\n",
        "fig = plt.figure(figsize=(8,8))\n",
        "plt.plot(Model_History.history['loss'])\n",
        "plt.plot(Model_History.history['val_loss'])\n",
        "plt.legend(['Train', 'Validation'], loc='upper right')\n",
        "plt.xlabel(\"Epochs\")\n",
        "plt.ylabel(\"Loss\")\n",
        "x=plt.title(\"Training and Validation Error Relu Activation - Two Layers\")"
      ],
      "execution_count": null,
      "outputs": [
        {
          "output_type": "display_data",
          "data": {
            "image/png": "[encoded data removed]",
            "text/plain": [
              "<Figure size 576x576 with 1 Axes>"
            ]
          },
          "metadata": {
            "tags": [],
            "needs_background": "light"
          }
        }
      ]
    },
    {
      "cell_type": "code",
      "metadata": {
        "id": "uf1LBiGoYaL_",
        "colab": {
          "base_uri": "https://localhost:8080/"
        },
        "outputId": "6908a9c8-b816-47e6-8c07-7560fed8ce1a"
      },
      "source": [
        "Temp=Model.evaluate(X_test,Y_test,return_dict=True)\n",
        "Batch_Size['Two Layer Relu']=Temp['accuracy']"
      ],
      "execution_count": null,
      "outputs": [
        {
          "output_type": "stream",
          "text": [
            "125/125 [==============================] - 0s 2ms/step - loss: 0.5027 - accuracy: 0.9482\n"
          ],
          "name": "stdout"
        }
      ]
    },
    {
      "cell_type": "markdown",
      "metadata": {
        "id": "UuNJe3xyZByv"
      },
      "source": [
        "---------------------------------------------"
      ]
    },
    {
      "cell_type": "code",
      "metadata": {
        "id": "B5WLjrUsYZ0s"
      },
      "source": [
        "Model=Sequential()\n",
        "Model.add(Flatten(input_shape=(28,28,1)))  #Flatten a matrix into straight array so that can be fed into DNN\n",
        "Model.add(Dense(264,activation=\"sigmoid\")) # 2  Layer No of nodes in each =264\n",
        "Model.add(Dense(264,activation=\"sigmoid\"))\n",
        "Model.add(Dense(10,activation=\"softmax\"))"
      ],
      "execution_count": null,
      "outputs": []
    },
    {
      "cell_type": "code",
      "metadata": {
        "id": "ecnjmjXVZK3P"
      },
      "source": [
        "Model.compile(\n",
        "    loss='sparse_categorical_crossentropy',\n",
        "    optimizer=tf.keras.optimizers.Adam(0.001),  \n",
        "    metrics=['accuracy'],\n",
        ")"
      ],
      "execution_count": null,
      "outputs": []
    },
    {
      "cell_type": "code",
      "metadata": {
        "id": "gAASnk8ZZLDJ"
      },
      "source": [
        "EarlyStop=tf.keras.callbacks.EarlyStopping(\n",
        "    monitor='val_loss' , verbose=2, patience=5,restore_best_weights=False,min_delta=0.01\n",
        "    \n",
        ")"
      ],
      "execution_count": null,
      "outputs": []
    },
    {
      "cell_type": "code",
      "metadata": {
        "id": "RO2KcqdiZLI6",
        "colab": {
          "base_uri": "https://localhost:8080/"
        },
        "outputId": "81bdff48-94a4-4fd5-c636-d9bb01bb6b4b"
      },
      "source": [
        "Model_History = Model.fit(X_train,Y_train,batch_size=1024, epochs=25,shuffle=True,verbose=1,callbacks=[EarlyStop],validation_data=(X_validate,Y_validate))"
      ],
      "execution_count": null,
      "outputs": [
        {
          "output_type": "stream",
          "text": [
            "Epoch 1/25\n",
            "59/59 [==============================] - 2s 34ms/step - loss: 1.0364 - accuracy: 0.7544 - val_loss: 0.4284 - val_accuracy: 0.8962\n",
            "Epoch 2/25\n",
            "59/59 [==============================] - 2s 32ms/step - loss: 0.3494 - accuracy: 0.9057 - val_loss: 0.3004 - val_accuracy: 0.9175\n",
            "Epoch 3/25\n",
            "59/59 [==============================] - 2s 32ms/step - loss: 0.2683 - accuracy: 0.9250 - val_loss: 0.2479 - val_accuracy: 0.9297\n",
            "Epoch 4/25\n",
            "59/59 [==============================] - 2s 32ms/step - loss: 0.2284 - accuracy: 0.9355 - val_loss: 0.2227 - val_accuracy: 0.9338\n",
            "Epoch 5/25\n",
            "59/59 [==============================] - 2s 32ms/step - loss: 0.2059 - accuracy: 0.9413 - val_loss: 0.2010 - val_accuracy: 0.9405\n",
            "Epoch 6/25\n",
            "59/59 [==============================] - 2s 32ms/step - loss: 0.1848 - accuracy: 0.9466 - val_loss: 0.1882 - val_accuracy: 0.9453\n",
            "Epoch 7/25\n",
            "59/59 [==============================] - 2s 32ms/step - loss: 0.1729 - accuracy: 0.9496 - val_loss: 0.1783 - val_accuracy: 0.9480\n",
            "Epoch 8/25\n",
            "59/59 [==============================] - 2s 32ms/step - loss: 0.1605 - accuracy: 0.9527 - val_loss: 0.1668 - val_accuracy: 0.9500\n",
            "Epoch 9/25\n",
            "59/59 [==============================] - 2s 32ms/step - loss: 0.1480 - accuracy: 0.9559 - val_loss: 0.1653 - val_accuracy: 0.9515\n",
            "Epoch 10/25\n",
            "59/59 [==============================] - 2s 31ms/step - loss: 0.1419 - accuracy: 0.9592 - val_loss: 0.1495 - val_accuracy: 0.9530\n",
            "Epoch 11/25\n",
            "59/59 [==============================] - 2s 32ms/step - loss: 0.1361 - accuracy: 0.9603 - val_loss: 0.1485 - val_accuracy: 0.9558\n",
            "Epoch 12/25\n",
            "59/59 [==============================] - 2s 31ms/step - loss: 0.1327 - accuracy: 0.9604 - val_loss: 0.1494 - val_accuracy: 0.9557\n",
            "Epoch 13/25\n",
            "59/59 [==============================] - 2s 32ms/step - loss: 0.1308 - accuracy: 0.9601 - val_loss: 0.1422 - val_accuracy: 0.9593\n",
            "Epoch 14/25\n",
            "59/59 [==============================] - 2s 32ms/step - loss: 0.1246 - accuracy: 0.9627 - val_loss: 0.1381 - val_accuracy: 0.9577\n",
            "Epoch 15/25\n",
            "59/59 [==============================] - 2s 32ms/step - loss: 0.1175 - accuracy: 0.9644 - val_loss: 0.1411 - val_accuracy: 0.9575\n",
            "Epoch 16/25\n",
            "59/59 [==============================] - 2s 32ms/step - loss: 0.1145 - accuracy: 0.9650 - val_loss: 0.1312 - val_accuracy: 0.9600\n",
            "Epoch 17/25\n",
            "59/59 [==============================] - 2s 32ms/step - loss: 0.1090 - accuracy: 0.9678 - val_loss: 0.1239 - val_accuracy: 0.9623\n",
            "Epoch 18/25\n",
            "59/59 [==============================] - 2s 32ms/step - loss: 0.1077 - accuracy: 0.9675 - val_loss: 0.1315 - val_accuracy: 0.9587\n",
            "Epoch 19/25\n",
            "59/59 [==============================] - 2s 32ms/step - loss: 0.1047 - accuracy: 0.9682 - val_loss: 0.1323 - val_accuracy: 0.9623\n",
            "Epoch 20/25\n",
            "59/59 [==============================] - 2s 32ms/step - loss: 0.1063 - accuracy: 0.9679 - val_loss: 0.1316 - val_accuracy: 0.9615\n",
            "Epoch 21/25\n",
            "59/59 [==============================] - 2s 32ms/step - loss: 0.1092 - accuracy: 0.9671 - val_loss: 0.1325 - val_accuracy: 0.9578\n",
            "Epoch 22/25\n",
            "59/59 [==============================] - 2s 32ms/step - loss: 0.1035 - accuracy: 0.9678 - val_loss: 0.1371 - val_accuracy: 0.9587\n",
            "Epoch 00022: early stopping\n"
          ],
          "name": "stdout"
        }
      ]
    },
    {
      "cell_type": "code",
      "metadata": {
        "id": "aKS_8BmeZLA6",
        "colab": {
          "base_uri": "https://localhost:8080/",
          "height": 513
        },
        "outputId": "dc15b101-81c2-4bde-9b3b-e9ff41b129ca"
      },
      "source": [
        "import matplotlib.pyplot as plt\n",
        "fig = plt.figure(figsize=(8,8))\n",
        "plt.plot(Model_History.history['loss'])\n",
        "plt.plot(Model_History.history['val_loss'])\n",
        "plt.legend(['Train', 'Validation'], loc='upper right')\n",
        "plt.xlabel(\"Epochs\")\n",
        "plt.ylabel(\"Loss\")\n",
        "x=plt.title(\"Training and Validation Error Sigmoid Activation - Two Layers\")"
      ],
      "execution_count": null,
      "outputs": [
        {
          "output_type": "display_data",
          "data": {
            "image/png": "[encoded data removed]",
            "text/plain": [
              "<Figure size 576x576 with 1 Axes>"
            ]
          },
          "metadata": {
            "tags": [],
            "needs_background": "light"
          }
        }
      ]
    },
    {
      "cell_type": "code",
      "metadata": {
        "id": "ejrD4VoKZK-V",
        "colab": {
          "base_uri": "https://localhost:8080/"
        },
        "outputId": "a2579a0f-e4b1-4bd7-b3f5-2f2bdf2c94c9"
      },
      "source": [
        "Temp=Model.evaluate(X_test,Y_test,return_dict=True)\n",
        "Batch_Size['Two Layer Sigmoid']=Temp['accuracy']"
      ],
      "execution_count": null,
      "outputs": [
        {
          "output_type": "stream",
          "text": [
            "125/125 [==============================] - 0s 2ms/step - loss: 0.1252 - accuracy: 0.9595\n"
          ],
          "name": "stdout"
        }
      ]
    },
    {
      "cell_type": "markdown",
      "metadata": {
        "id": "ztYGtsElZV6G"
      },
      "source": [
        "> **B ) Linear Activation (Non Linearity)**"
      ]
    },
    {
      "cell_type": "code",
      "metadata": {
        "id": "GXNTB8mxZWLn"
      },
      "source": [
        "Model=Sequential()\n",
        "Model.add(Flatten(input_shape=(28,28,1)))  #Flatten a matrix into straight array so that can be fed into DNN\n",
        "Model.add(Dense(264,activation=\"linear\")) # 2  Layer No of nodes in each =264\n",
        "Model.add(Dense(264,activation=\"linear\"))\n",
        "Model.add(Dense(10,activation=\"softmax\"))"
      ],
      "execution_count": null,
      "outputs": []
    },
    {
      "cell_type": "code",
      "metadata": {
        "id": "ICWJ75i9ZWby"
      },
      "source": [
        "Model.compile(\n",
        "    loss='sparse_categorical_crossentropy',\n",
        "    optimizer=tf.keras.optimizers.Adam(0.001),  \n",
        "    metrics=['accuracy'],\n",
        ")"
      ],
      "execution_count": null,
      "outputs": []
    },
    {
      "cell_type": "code",
      "metadata": {
        "id": "Z0vAdugCZWhE"
      },
      "source": [
        "EarlyStop=tf.keras.callbacks.EarlyStopping(\n",
        "    monitor='val_loss' , verbose=2, patience=5,restore_best_weights=False,min_delta=0.01\n",
        "    \n",
        ")"
      ],
      "execution_count": null,
      "outputs": []
    },
    {
      "cell_type": "code",
      "metadata": {
        "id": "M8lV6k3-ZWZy",
        "colab": {
          "base_uri": "https://localhost:8080/"
        },
        "outputId": "ce015f35-1771-40af-d8ad-a40beb5f3912"
      },
      "source": [
        "Model_History = Model.fit(X_train,Y_train,batch_size=1024, epochs=25,shuffle=True,verbose=1,callbacks=[EarlyStop],validation_data=(X_validate,Y_validate))"
      ],
      "execution_count": null,
      "outputs": [
        {
          "output_type": "stream",
          "text": [
            "Epoch 1/25\n",
            "59/59 [==============================] - 2s 33ms/step - loss: 25.2537 - accuracy: 0.8228 - val_loss: 9.1074 - val_accuracy: 0.8935\n",
            "Epoch 2/25\n",
            "59/59 [==============================] - 2s 31ms/step - loss: 6.4558 - accuracy: 0.8935 - val_loss: 5.0938 - val_accuracy: 0.8840\n",
            "Epoch 3/25\n",
            "59/59 [==============================] - 2s 31ms/step - loss: 3.8148 - accuracy: 0.8918 - val_loss: 3.8362 - val_accuracy: 0.8695\n",
            "Epoch 4/25\n",
            "59/59 [==============================] - 2s 31ms/step - loss: 2.8743 - accuracy: 0.8858 - val_loss: 2.6297 - val_accuracy: 0.8955\n",
            "Epoch 5/25\n",
            "59/59 [==============================] - 2s 31ms/step - loss: 2.4800 - accuracy: 0.8842 - val_loss: 2.4823 - val_accuracy: 0.8873\n",
            "Epoch 6/25\n",
            "59/59 [==============================] - 2s 31ms/step - loss: 2.1770 - accuracy: 0.8837 - val_loss: 2.2995 - val_accuracy: 0.8802\n",
            "Epoch 7/25\n",
            "59/59 [==============================] - 2s 31ms/step - loss: 1.9240 - accuracy: 0.8832 - val_loss: 2.2390 - val_accuracy: 0.8718\n",
            "Epoch 8/25\n",
            "59/59 [==============================] - 2s 31ms/step - loss: 1.7405 - accuracy: 0.8839 - val_loss: 1.9292 - val_accuracy: 0.8758\n",
            "Epoch 9/25\n",
            "59/59 [==============================] - 2s 31ms/step - loss: 1.6916 - accuracy: 0.8829 - val_loss: 1.8303 - val_accuracy: 0.8815\n",
            "Epoch 10/25\n",
            "59/59 [==============================] - 2s 31ms/step - loss: 1.4979 - accuracy: 0.8844 - val_loss: 1.5164 - val_accuracy: 0.8938\n",
            "Epoch 11/25\n",
            "59/59 [==============================] - 2s 31ms/step - loss: 1.4910 - accuracy: 0.8827 - val_loss: 1.5735 - val_accuracy: 0.8815\n",
            "Epoch 12/25\n",
            "59/59 [==============================] - 2s 31ms/step - loss: 1.3879 - accuracy: 0.8837 - val_loss: 1.5253 - val_accuracy: 0.8823\n",
            "Epoch 13/25\n",
            "59/59 [==============================] - 2s 31ms/step - loss: 1.3558 - accuracy: 0.8823 - val_loss: 1.4927 - val_accuracy: 0.8770\n",
            "Epoch 14/25\n",
            "59/59 [==============================] - 2s 31ms/step - loss: 1.3254 - accuracy: 0.8823 - val_loss: 1.5516 - val_accuracy: 0.8760\n",
            "Epoch 15/25\n",
            "59/59 [==============================] - 2s 31ms/step - loss: 1.3002 - accuracy: 0.8813 - val_loss: 1.3504 - val_accuracy: 0.8777\n",
            "Epoch 16/25\n",
            "59/59 [==============================] - 2s 31ms/step - loss: 1.1661 - accuracy: 0.8836 - val_loss: 1.2637 - val_accuracy: 0.8917\n",
            "Epoch 17/25\n",
            "59/59 [==============================] - 2s 31ms/step - loss: 1.1918 - accuracy: 0.8826 - val_loss: 1.3890 - val_accuracy: 0.8772\n",
            "Epoch 18/25\n",
            "59/59 [==============================] - 2s 31ms/step - loss: 1.1480 - accuracy: 0.8839 - val_loss: 1.1592 - val_accuracy: 0.8828\n",
            "Epoch 19/25\n",
            "59/59 [==============================] - 2s 31ms/step - loss: 1.0839 - accuracy: 0.8832 - val_loss: 1.2891 - val_accuracy: 0.8775\n",
            "Epoch 20/25\n",
            "59/59 [==============================] - 2s 31ms/step - loss: 1.0794 - accuracy: 0.8828 - val_loss: 1.1809 - val_accuracy: 0.8853\n",
            "Epoch 21/25\n",
            "59/59 [==============================] - 2s 31ms/step - loss: 1.0537 - accuracy: 0.8857 - val_loss: 1.2072 - val_accuracy: 0.8703\n",
            "Epoch 22/25\n",
            "59/59 [==============================] - 2s 31ms/step - loss: 1.0075 - accuracy: 0.8846 - val_loss: 1.0667 - val_accuracy: 0.8838\n",
            "Epoch 23/25\n",
            "59/59 [==============================] - 2s 31ms/step - loss: 0.9637 - accuracy: 0.8842 - val_loss: 1.1133 - val_accuracy: 0.8812\n",
            "Epoch 24/25\n",
            "59/59 [==============================] - 2s 31ms/step - loss: 0.9483 - accuracy: 0.8858 - val_loss: 1.0803 - val_accuracy: 0.8793\n",
            "Epoch 25/25\n",
            "59/59 [==============================] - 2s 31ms/step - loss: 0.9099 - accuracy: 0.8852 - val_loss: 1.1211 - val_accuracy: 0.8745\n"
          ],
          "name": "stdout"
        }
      ]
    },
    {
      "cell_type": "code",
      "metadata": {
        "id": "Yq7BJjaUZWXX",
        "colab": {
          "base_uri": "https://localhost:8080/",
          "height": 513
        },
        "outputId": "12456755-1fa3-46a1-8b05-9ce80473097c"
      },
      "source": [
        "import matplotlib.pyplot as plt\n",
        "fig = plt.figure(figsize=(8,8))\n",
        "plt.plot(Model_History.history['loss'])\n",
        "plt.plot(Model_History.history['val_loss'])\n",
        "plt.legend(['Train', 'Validation'], loc='upper right')\n",
        "plt.xlabel(\"Epochs\")\n",
        "plt.ylabel(\"Loss\")\n",
        "x=plt.title(\"Training and Validation Error Linear Activation - Two Layers\")"
      ],
      "execution_count": null,
      "outputs": [
        {
          "output_type": "display_data",
          "data": {
            "image/png": "[encoded data removed]",
            "text/plain": [
              "<Figure size 576x576 with 1 Axes>"
            ]
          },
          "metadata": {
            "tags": [],
            "needs_background": "light"
          }
        }
      ]
    },
    {
      "cell_type": "code",
      "metadata": {
        "id": "yY4YecW8ZWVo",
        "colab": {
          "base_uri": "https://localhost:8080/"
        },
        "outputId": "2aa50ff1-2c9b-4f54-d6c7-a246c11acc9d"
      },
      "source": [
        "Temp=Model.evaluate(X_test,Y_test,return_dict=True)\n",
        "Batch_Size['Two Layer Non Linearity']=Temp['accuracy']"
      ],
      "execution_count": null,
      "outputs": [
        {
          "output_type": "stream",
          "text": [
            "125/125 [==============================] - 0s 2ms/step - loss: 1.0523 - accuracy: 0.8832\n"
          ],
          "name": "stdout"
        }
      ]
    },
    {
      "cell_type": "code",
      "metadata": {
        "id": "pR6GWDEMZK6I"
      },
      "source": [
        "Cummalitive = pd.DataFrame(columns=['Description','Testing Accuracy'])"
      ],
      "execution_count": null,
      "outputs": []
    },
    {
      "cell_type": "code",
      "metadata": {
        "id": "dqX21IHvqIBg",
        "colab": {
          "base_uri": "https://localhost:8080/",
          "height": 235
        },
        "outputId": "d3ae4be5-4914-4d2f-8f5b-e93d7dd778fb"
      },
      "source": [
        "Cummalitive"
      ],
      "execution_count": null,
      "outputs": [
        {
          "output_type": "execute_result",
          "data": {
            "text/html": [
              "<div>\n",
              "<style scoped>\n",
              "    .dataframe tbody tr th:only-of-type {\n",
              "        vertical-align: middle;\n",
              "    }\n",
              "\n",
              "    .dataframe tbody tr th {\n",
              "        vertical-align: top;\n",
              "    }\n",
              "\n",
              "    .dataframe thead th {\n",
              "        text-align: right;\n",
              "    }\n",
              "</style>\n",
              "<table border=\"1\" class=\"dataframe\">\n",
              "  <thead>\n",
              "    <tr style=\"text-align: right;\">\n",
              "      <th></th>\n",
              "      <th>Description</th>\n",
              "      <th>Testing Accuracy</th>\n",
              "    </tr>\n",
              "  </thead>\n",
              "  <tbody>\n",
              "    <tr>\n",
              "      <th>0</th>\n",
              "      <td>One Layer Relu</td>\n",
              "      <td>0.96425</td>\n",
              "    </tr>\n",
              "    <tr>\n",
              "      <th>1</th>\n",
              "      <td>One Layer Sigmoid</td>\n",
              "      <td>0.96675</td>\n",
              "    </tr>\n",
              "    <tr>\n",
              "      <th>2</th>\n",
              "      <td>One Layer Non Linearity</td>\n",
              "      <td>0.88900</td>\n",
              "    </tr>\n",
              "    <tr>\n",
              "      <th>3</th>\n",
              "      <td>Two Layer Relu</td>\n",
              "      <td>0.94825</td>\n",
              "    </tr>\n",
              "    <tr>\n",
              "      <th>4</th>\n",
              "      <td>Two Layer Sigmoid</td>\n",
              "      <td>0.95950</td>\n",
              "    </tr>\n",
              "    <tr>\n",
              "      <th>5</th>\n",
              "      <td>Two Layer Non Linearity</td>\n",
              "      <td>0.88325</td>\n",
              "    </tr>\n",
              "  </tbody>\n",
              "</table>\n",
              "</div>"
            ],
            "text/plain": [
              "               Description  Testing Accuracy\n",
              "0           One Layer Relu           0.96425\n",
              "1        One Layer Sigmoid           0.96675\n",
              "2  One Layer Non Linearity           0.88900\n",
              "3           Two Layer Relu           0.94825\n",
              "4        Two Layer Sigmoid           0.95950\n",
              "5  Two Layer Non Linearity           0.88325"
            ]
          },
          "metadata": {
            "tags": []
          },
          "execution_count": 196
        }
      ]
    },
    {
      "cell_type": "code",
      "metadata": {
        "id": "OgPk_7P8cA-Q"
      },
      "source": [
        "for x,y in Batch_Size.items():\n",
        "  dictionary={'Description':x,'Testing Accuracy':y}\n",
        "  Cummalitive=Cummalitive.append(dictionary,ignore_index=True)\n",
        "\n",
        "  #The Following Code Above Forms a Data Frame Detailing out the loss and accuracy with different Batch Sizes\n",
        "\n",
        "  #Taking the Max Value"
      ],
      "execution_count": null,
      "outputs": []
    },
    {
      "cell_type": "code",
      "metadata": {
        "id": "_Jyt_-EUcXcU",
        "colab": {
          "base_uri": "https://localhost:8080/",
          "height": 513
        },
        "outputId": "4a5df01b-79b2-48bc-b1bc-982e8320ed91"
      },
      "source": [
        "plt.figure(figsize=(16,8))\n",
        "sns.barplot(x='Description',y='Testing Accuracy',data=Cummalitive)\n",
        "x=plt.title('Testing Accuracy with diff Activation function and Layers (Same no of Parameters)')"
      ],
      "execution_count": null,
      "outputs": [
        {
          "output_type": "display_data",
          "data": {
            "image/png": "[encoded data removed]",
            "text/plain": [
              "<Figure size 1152x576 with 1 Axes>"
            ]
          },
          "metadata": {
            "tags": [],
            "needs_background": "light"
          }
        }
      ]
    },
    {
      "cell_type": "markdown",
      "metadata": {
        "id": "AU_q5iOdEWSF"
      },
      "source": [
        "-----------------------------------------------"
      ]
    }
  ]
}